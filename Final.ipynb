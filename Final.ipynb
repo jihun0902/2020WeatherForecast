{
 "cells": [
  {
   "cell_type": "code",
   "execution_count": 1,
   "metadata": {},
   "outputs": [],
   "source": [
    "import pandas as pd\n",
    "import numpy as np\n",
    "from tqdm import tqdm\n",
    "import random\n",
    "import tensorflow as tf\n",
    "\n",
    "np.random.seed(7)\n",
    "random.seed(7)\n",
    "tf.random.set_seed(7)"
   ]
  },
  {
   "cell_type": "code",
   "execution_count": 2,
   "metadata": {},
   "outputs": [],
   "source": [
    "#csv파일 불러오기\n",
    "train = pd.read_csv('/Users/keom/Desktop/work/Weather Forecast/train.csv')\n",
    "test = pd.read_csv('/Users/keom/Desktop/work/Weather Forecast/test.csv')"
   ]
  },
  {
   "cell_type": "code",
   "execution_count": 3,
   "metadata": {},
   "outputs": [],
   "source": [
    "#x칼럼 정리.\n",
    "x_time = ['id'] #시간\n",
    "x_temperature = ['X00', 'X07', 'X28', 'X31', 'X32'] #기온\n",
    "x_local_pressure = ['X01', 'X06', 'X22', 'X27', 'X29'] #현지기압\n",
    "x_wind_speed = ['X02', 'X03', 'X18', 'X24', 'X26'] #풍속\n",
    "x_daily_rainfall = ['X04', 'X10', 'X21', 'X36', 'X39'] #일일 누적강수량\n",
    "x_sealevel_pressure = ['X05', 'X08', 'X09', 'X23', 'X33'] #해면기압\n",
    "x_daily_sun = ['X11', 'X34'] #일일 누적일사량 (X14, X16, X19는 제거됨)\n",
    "x_humidity = ['X12', 'X20', 'X30', 'X37', 'X38'] #습도\n",
    "x_wind_direction = ['X13', 'X15', 'X17', 'X25', 'X35'] #풍향\n",
    "\n",
    "#y칼럼 정리\n",
    "y_sensor = ['Y00', 'Y01','Y02','Y03','Y04', 'Y05', 'Y06', 'Y07', 'Y08', \n",
    "            'Y09', 'Y10', 'Y11', 'Y12', 'Y13', 'Y14', 'Y15', 'Y16', 'Y17'] #센서측정온도\n",
    "y_target = ['Y18'] #예측대상"
   ]
  },
  {
   "cell_type": "code",
   "execution_count": 4,
   "metadata": {},
   "outputs": [],
   "source": [
    "def accumulate_to_10minute(df, col):\n",
    "    for i in col:\n",
    "        #누적데이터를 10분간의 데이터로 분류\n",
    "        tmp = df[i].iloc[0]\n",
    "        df[i] = df[i] - df[i].shift(1)\n",
    "        df[i].iloc[0] = tmp\n",
    "        \n",
    "        #24시를 넘어서 데이터가 음수가 된다면, 0으로 변경\n",
    "        for j in np.arange(0,len(df[i])):\n",
    "            if df[i].iloc[j] < 0:\n",
    "                df[i].iloc[j] = 0\n",
    "    print(\"누적 데이터 변경 완료\")\n",
    "\n",
    "\n",
    "def remove_outlier(df):\n",
    "    for j in list(df.columns):\n",
    "        for i in np.arange(0,len(df[\"X00\"])):\n",
    "            if df.loc[i,j] > 3:\n",
    "                df.loc[i,j] = df.shift(1).loc[i,j]"
   ]
  },
  {
   "cell_type": "code",
   "execution_count": 5,
   "metadata": {},
   "outputs": [
    {
     "name": "stdout",
     "output_type": "stream",
     "text": [
      "X14, X16, X19 삭제 완료\n",
      "누적 데이터 변경 완료\n"
     ]
    },
    {
     "name": "stderr",
     "output_type": "stream",
     "text": [
      "/opt/anaconda3/envs/venv/lib/python3.8/site-packages/pandas/core/indexing.py:670: SettingWithCopyWarning: \n",
      "A value is trying to be set on a copy of a slice from a DataFrame\n",
      "\n",
      "See the caveats in the documentation: https://pandas.pydata.org/pandas-docs/stable/user_guide/indexing.html#returning-a-view-versus-a-copy\n",
      "  iloc._setitem_with_indexer(indexer, value)\n"
     ]
    },
    {
     "name": "stdout",
     "output_type": "stream",
     "text": [
      "누적 데이터 변경 완료\n",
      "누적 데이터 변경 완료\n",
      "누적 데이터 변경 완료\n"
     ]
    }
   ],
   "source": [
    "#고장난 센서 X14, X16, X19 삭제\n",
    "train = train.drop(['X14', 'X16', 'X19'], axis =1)\n",
    "test = test.drop(['X14', 'X16', 'X19'], axis =1)\n",
    "print('X14, X16, X19 삭제 완료')\n",
    "\n",
    "\n",
    "#누적 강수량 변경\n",
    "accumulate_to_10minute(train, x_daily_rainfall)\n",
    "accumulate_to_10minute(test, x_daily_rainfall)\n",
    "\n",
    "\n",
    "#누적 일사량 변경\n",
    "accumulate_to_10minute(train, x_daily_sun)\n",
    "accumulate_to_10minute(test, x_daily_sun)"
   ]
  },
  {
   "cell_type": "code",
   "execution_count": 6,
   "metadata": {},
   "outputs": [],
   "source": [
    "#학습용 데이터프레임 생성\n",
    "train_df = pd.DataFrame(pd.concat([train[x_temperature], \n",
    "                                  train[x_daily_sun]], axis=1))\n",
    "\n",
    "test_df = pd.DataFrame(pd.concat([test[x_temperature], \n",
    "                                 test[x_daily_sun]], axis=1))"
   ]
  },
  {
   "cell_type": "code",
   "execution_count": 7,
   "metadata": {},
   "outputs": [],
   "source": [
    "# standardization을 위해 평균과 표준편차 구하기\n",
    "MEAN = train_df.mean()\n",
    "STD = train_df.std()\n",
    "\n",
    "\n",
    "# 표준편차가 0일 경우 대비하여 1e-07 추가 \n",
    "train_df = (train_df - MEAN) / (STD + 1e-07)\n",
    "\n",
    "test_df = (test_df - MEAN) / (STD + 1e-07)"
   ]
  },
  {
   "cell_type": "code",
   "execution_count": 8,
   "metadata": {},
   "outputs": [],
   "source": [
    "\n",
    "remove_outlier(train_df)\n",
    "remove_outlier(test_df)\n"
   ]
  },
  {
   "cell_type": "code",
   "execution_count": 9,
   "metadata": {},
   "outputs": [],
   "source": [
    "def convert_to_timeseries(df, interval):\n",
    "    sequence_list = []\n",
    "    target_list = []\n",
    "    \n",
    "    for i in tqdm(range(df.shape[0] - interval)):\n",
    "        sequence_list.append(np.array(df.iloc[i:i+interval,:-1]))\n",
    "        target_list.append(df.iloc[i+interval,-1])\n",
    "    \n",
    "    sequence = np.array(sequence_list)\n",
    "    target = np.array(target_list)\n",
    "    a\n",
    "    return sequence, target"
   ]
  },
  {
   "cell_type": "code",
   "execution_count": 13,
   "metadata": {},
   "outputs": [
    {
     "data": {
      "text/html": [
       "<div>\n",
       "<style scoped>\n",
       "    .dataframe tbody tr th:only-of-type {\n",
       "        vertical-align: middle;\n",
       "    }\n",
       "\n",
       "    .dataframe tbody tr th {\n",
       "        vertical-align: top;\n",
       "    }\n",
       "\n",
       "    .dataframe thead th {\n",
       "        text-align: right;\n",
       "    }\n",
       "</style>\n",
       "<table border=\"1\" class=\"dataframe\">\n",
       "  <thead>\n",
       "    <tr style=\"text-align: right;\">\n",
       "      <th></th>\n",
       "      <th>X00</th>\n",
       "      <th>X07</th>\n",
       "      <th>X28</th>\n",
       "      <th>X31</th>\n",
       "      <th>X32</th>\n",
       "      <th>X11</th>\n",
       "      <th>X34</th>\n",
       "    </tr>\n",
       "  </thead>\n",
       "  <tbody>\n",
       "    <tr>\n",
       "      <th>0</th>\n",
       "      <td>-2.236377</td>\n",
       "      <td>-2.160752</td>\n",
       "      <td>-2.314454</td>\n",
       "      <td>-2.109779</td>\n",
       "      <td>-1.766623</td>\n",
       "      <td>-0.794399</td>\n",
       "      <td>-0.762928</td>\n",
       "    </tr>\n",
       "    <tr>\n",
       "      <th>1</th>\n",
       "      <td>-2.321347</td>\n",
       "      <td>-2.183598</td>\n",
       "      <td>-2.361789</td>\n",
       "      <td>-2.091664</td>\n",
       "      <td>-1.842501</td>\n",
       "      <td>-0.794399</td>\n",
       "      <td>-0.762928</td>\n",
       "    </tr>\n",
       "    <tr>\n",
       "      <th>2</th>\n",
       "      <td>-2.300105</td>\n",
       "      <td>-2.183598</td>\n",
       "      <td>-2.361789</td>\n",
       "      <td>-2.146009</td>\n",
       "      <td>-1.956318</td>\n",
       "      <td>-0.794399</td>\n",
       "      <td>-0.762928</td>\n",
       "    </tr>\n",
       "    <tr>\n",
       "      <th>3</th>\n",
       "      <td>-2.300105</td>\n",
       "      <td>-2.206443</td>\n",
       "      <td>-2.361789</td>\n",
       "      <td>-2.200355</td>\n",
       "      <td>-2.013226</td>\n",
       "      <td>-0.794399</td>\n",
       "      <td>-0.762928</td>\n",
       "    </tr>\n",
       "    <tr>\n",
       "      <th>4</th>\n",
       "      <td>-2.342589</td>\n",
       "      <td>-2.206443</td>\n",
       "      <td>-2.385457</td>\n",
       "      <td>-2.254700</td>\n",
       "      <td>-2.013226</td>\n",
       "      <td>-0.794399</td>\n",
       "      <td>-0.762928</td>\n",
       "    </tr>\n",
       "    <tr>\n",
       "      <th>...</th>\n",
       "      <td>...</td>\n",
       "      <td>...</td>\n",
       "      <td>...</td>\n",
       "      <td>...</td>\n",
       "      <td>...</td>\n",
       "      <td>...</td>\n",
       "      <td>...</td>\n",
       "    </tr>\n",
       "    <tr>\n",
       "      <th>4747</th>\n",
       "      <td>-0.069655</td>\n",
       "      <td>0.009577</td>\n",
       "      <td>0.407308</td>\n",
       "      <td>-0.388845</td>\n",
       "      <td>-0.173188</td>\n",
       "      <td>-0.794399</td>\n",
       "      <td>-0.762928</td>\n",
       "    </tr>\n",
       "    <tr>\n",
       "      <th>4748</th>\n",
       "      <td>-0.069655</td>\n",
       "      <td>-0.013269</td>\n",
       "      <td>0.359973</td>\n",
       "      <td>-0.388845</td>\n",
       "      <td>-0.154219</td>\n",
       "      <td>-0.794399</td>\n",
       "      <td>-0.762928</td>\n",
       "    </tr>\n",
       "    <tr>\n",
       "      <th>4749</th>\n",
       "      <td>-0.112139</td>\n",
       "      <td>-0.058960</td>\n",
       "      <td>0.359973</td>\n",
       "      <td>-0.370730</td>\n",
       "      <td>-0.154219</td>\n",
       "      <td>-0.794399</td>\n",
       "      <td>-0.762928</td>\n",
       "    </tr>\n",
       "    <tr>\n",
       "      <th>4750</th>\n",
       "      <td>-0.175867</td>\n",
       "      <td>-0.081806</td>\n",
       "      <td>0.288971</td>\n",
       "      <td>-0.388845</td>\n",
       "      <td>-0.135249</td>\n",
       "      <td>-0.794399</td>\n",
       "      <td>-0.762928</td>\n",
       "    </tr>\n",
       "    <tr>\n",
       "      <th>4751</th>\n",
       "      <td>-0.239594</td>\n",
       "      <td>-0.104651</td>\n",
       "      <td>0.265303</td>\n",
       "      <td>-0.388845</td>\n",
       "      <td>-0.097310</td>\n",
       "      <td>-0.794399</td>\n",
       "      <td>-0.762928</td>\n",
       "    </tr>\n",
       "  </tbody>\n",
       "</table>\n",
       "<p>4752 rows × 7 columns</p>\n",
       "</div>"
      ],
      "text/plain": [
       "           X00       X07       X28       X31       X32       X11       X34\n",
       "0    -2.236377 -2.160752 -2.314454 -2.109779 -1.766623 -0.794399 -0.762928\n",
       "1    -2.321347 -2.183598 -2.361789 -2.091664 -1.842501 -0.794399 -0.762928\n",
       "2    -2.300105 -2.183598 -2.361789 -2.146009 -1.956318 -0.794399 -0.762928\n",
       "3    -2.300105 -2.206443 -2.361789 -2.200355 -2.013226 -0.794399 -0.762928\n",
       "4    -2.342589 -2.206443 -2.385457 -2.254700 -2.013226 -0.794399 -0.762928\n",
       "...        ...       ...       ...       ...       ...       ...       ...\n",
       "4747 -0.069655  0.009577  0.407308 -0.388845 -0.173188 -0.794399 -0.762928\n",
       "4748 -0.069655 -0.013269  0.359973 -0.388845 -0.154219 -0.794399 -0.762928\n",
       "4749 -0.112139 -0.058960  0.359973 -0.370730 -0.154219 -0.794399 -0.762928\n",
       "4750 -0.175867 -0.081806  0.288971 -0.388845 -0.135249 -0.794399 -0.762928\n",
       "4751 -0.239594 -0.104651  0.265303 -0.388845 -0.097310 -0.794399 -0.762928\n",
       "\n",
       "[4752 rows x 7 columns]"
      ]
     },
     "execution_count": 13,
     "metadata": {},
     "output_type": "execute_result"
    }
   ],
   "source": [
    "train_df"
   ]
  },
  {
   "cell_type": "code",
   "execution_count": 10,
   "metadata": {},
   "outputs": [
    {
     "name": "stderr",
     "output_type": "stream",
     "text": [
      "100%|██████████| 4308/4308 [00:00<00:00, 5009.89it/s]\n",
      "100%|██████████| 4308/4308 [00:00<00:00, 5269.61it/s]\n",
      "100%|██████████| 4308/4308 [00:00<00:00, 5285.63it/s]\n"
     ]
    }
   ],
   "source": [
    "x_num = 7\n",
    "\n",
    "\n",
    "#학습에 사용할 Y값 지정\n",
    "y_columns = ['Y09', 'Y16','Y15']\n",
    "\n",
    "\n",
    "#지정한 Y들만큼 데이터의 길이를 늘림\n",
    "sequence = np.empty((0, 12, x_num))\n",
    "target = np.empty((0,))\n",
    "\n",
    "for column in y_columns :\n",
    "    \n",
    "    concat = pd.concat([train_df, train[column]], axis = 1)\n",
    "\n",
    "    _sequence, _target = convert_to_timeseries(concat.head(144*30), interval = 12)\n",
    "\n",
    "    sequence = np.vstack((sequence, _sequence))\n",
    "    target = np.hstack((target, _target))"
   ]
  },
  {
   "cell_type": "code",
   "execution_count": 12,
   "metadata": {},
   "outputs": [
    {
     "data": {
      "text/plain": [
       "(12924, 12, 7)"
      ]
     },
     "execution_count": 12,
     "metadata": {},
     "output_type": "execute_result"
    }
   ],
   "source": [
    "sequence.shape"
   ]
  },
  {
   "cell_type": "code",
   "execution_count": 14,
   "metadata": {},
   "outputs": [
    {
     "data": {
      "text/plain": [
       "(12924,)"
      ]
     },
     "execution_count": 14,
     "metadata": {},
     "output_type": "execute_result"
    }
   ],
   "source": [
    "target.shape"
   ]
  },
  {
   "cell_type": "code",
   "execution_count": 52,
   "metadata": {},
   "outputs": [
    {
     "name": "stderr",
     "output_type": "stream",
     "text": [
      "100%|██████████| 16260/16260 [00:07<00:00, 2273.28it/s]\n"
     ]
    }
   ],
   "source": [
    "\"\"\"\n",
    "#6. test_df 생성 (x변수를 평균 사용)\n",
    "\"\"\"\n",
    "\n",
    "train_df['dummy'] = 0\n",
    "test_df['dummy'] = 0\n",
    "\n",
    "X_test, _ = convert_to_timeseries(pd.concat([train_df, test_df], axis = 0), interval=12)\n",
    "X_test = X_test[-11520:, :, :]\n",
    "\n",
    "# 만들어 두었던 dummy feature 제거\n",
    "train_df.drop('dummy', axis = 1, inplace = True)\n",
    "test_df.drop('dummy', axis = 1, inplace = True)"
   ]
  },
  {
   "cell_type": "code",
   "execution_count": 53,
   "metadata": {},
   "outputs": [
    {
     "name": "stdout",
     "output_type": "stream",
     "text": [
      "Model: \"sequential_2\"\n",
      "_________________________________________________________________\n",
      "Layer (type)                 Output Shape              Param #   \n",
      "=================================================================\n",
      "lstm_2 (LSTM)                (None, 128)               69632     \n",
      "_________________________________________________________________\n",
      "dense_6 (Dense)              (None, 256)               33024     \n",
      "_________________________________________________________________\n",
      "dense_7 (Dense)              (None, 128)               32896     \n",
      "_________________________________________________________________\n",
      "dense_8 (Dense)              (None, 64)                8256      \n",
      "_________________________________________________________________\n",
      "dense_9 (Dense)              (None, 1)                 65        \n",
      "=================================================================\n",
      "Total params: 143,873\n",
      "Trainable params: 143,873\n",
      "Non-trainable params: 0\n",
      "_________________________________________________________________\n"
     ]
    }
   ],
   "source": [
    "\n",
    "\"\"\"\n",
    "\n",
    "#7. 학습 모델 생성\n",
    "\n",
    "\"\"\"\n",
    "\n",
    "\n",
    "simple_lstm_model = tf.keras.models.Sequential([\n",
    "    tf.keras.layers.LSTM(128, input_shape=sequence.shape[-2:]),\n",
    "    tf.keras.layers.Dense(256, activation = 'relu'),\n",
    "    tf.keras.layers.Dense(128, activation = 'relu'),\n",
    "    tf.keras.layers.Dense(64, activation = 'relu'),\n",
    "    tf.keras.layers.Dense(1)\n",
    "])\n",
    "\n",
    "simple_lstm_model.compile(optimizer='adam', loss='mse')\n",
    "simple_lstm_model.summary()\n",
    "\n",
    "\n",
    "# loss가 4미만으로 떨어지면 학습 종료 시키는 기능\n",
    "class myCallback(tf.keras.callbacks.Callback):\n",
    "    def on_epoch_end(self, epoch, logs = None):\n",
    "        if(logs.get('loss') < 4):\n",
    "            print('\\n Loss is under 4, cancelling training')\n",
    "            self.model.stop_training = True\n",
    "            \n",
    "\n",
    "callbacks = myCallback()"
   ]
  },
  {
   "cell_type": "code",
   "execution_count": 54,
   "metadata": {},
   "outputs": [
    {
     "name": "stdout",
     "output_type": "stream",
     "text": [
      "Train on 12924 samples\n",
      "Epoch 1/60\n",
      "12924/12924 [==============================] - 3s 220us/sample - loss: 57.7122\n",
      "Epoch 2/60\n",
      "12924/12924 [==============================] - 2s 132us/sample - loss: 5.4848\n",
      "Epoch 3/60\n",
      "12924/12924 [==============================] - 2s 132us/sample - loss: 4.7786\n",
      "Epoch 4/60\n",
      "12924/12924 [==============================] - 2s 133us/sample - loss: 4.7025\n",
      "Epoch 5/60\n",
      "12924/12924 [==============================] - 2s 133us/sample - loss: 4.5391\n",
      "Epoch 6/60\n",
      "12924/12924 [==============================] - 2s 133us/sample - loss: 4.3452\n",
      "Epoch 7/60\n",
      "12924/12924 [==============================] - 2s 132us/sample - loss: 4.2454\n",
      "Epoch 8/60\n",
      "12924/12924 [==============================] - 2s 132us/sample - loss: 4.1983\n",
      "Epoch 9/60\n",
      "12924/12924 [==============================] - 2s 132us/sample - loss: 4.1519\n",
      "Epoch 10/60\n",
      "12924/12924 [==============================] - 2s 132us/sample - loss: 4.1366\n",
      "Epoch 11/60\n",
      "12924/12924 [==============================] - 2s 133us/sample - loss: 4.2061\n",
      "Epoch 12/60\n",
      "12924/12924 [==============================] - 2s 133us/sample - loss: 4.2309\n",
      "Epoch 13/60\n",
      "12924/12924 [==============================] - 2s 135us/sample - loss: 4.2061\n",
      "Epoch 14/60\n",
      "12924/12924 [==============================] - 2s 133us/sample - loss: 4.2058\n",
      "Epoch 15/60\n",
      "12924/12924 [==============================] - 2s 133us/sample - loss: 4.2642\n",
      "Epoch 16/60\n",
      "12924/12924 [==============================] - 2s 134us/sample - loss: 4.1986\n",
      "Epoch 17/60\n",
      "12924/12924 [==============================] - 2s 135us/sample - loss: 4.1526\n",
      "Epoch 18/60\n",
      "12924/12924 [==============================] - 2s 137us/sample - loss: 4.1103\n",
      "Epoch 19/60\n",
      "12924/12924 [==============================] - 2s 137us/sample - loss: 4.0721\n",
      "Epoch 20/60\n",
      "12924/12924 [==============================] - 2s 139us/sample - loss: 4.0227\n",
      "Epoch 21/60\n",
      "12924/12924 [==============================] - 2s 140us/sample - loss: 4.0003\n",
      "Epoch 22/60\n",
      "12864/12924 [============================>.] - ETA: 0s - loss: 3.9744\n",
      " Loss is under 4, cancelling training\n",
      "12924/12924 [==============================] - 2s 146us/sample - loss: 3.9652\n"
     ]
    },
    {
     "data": {
      "text/plain": [
       "<tensorflow.python.keras.callbacks.History at 0x145b87050>"
      ]
     },
     "execution_count": 54,
     "metadata": {},
     "output_type": "execute_result"
    }
   ],
   "source": [
    "\n",
    "\"\"\"\n",
    "#8. 모델 학습\n",
    "\"\"\"\n",
    "simple_lstm_model.fit(\n",
    "    sequence, target,\n",
    "    epochs=60,\n",
    "    batch_size=64,\n",
    "    verbose=1,\n",
    "    shuffle=False,\n",
    "    callbacks = [callbacks])"
   ]
  },
  {
   "cell_type": "code",
   "execution_count": 55,
   "metadata": {},
   "outputs": [
    {
     "name": "stderr",
     "output_type": "stream",
     "text": [
      "100%|██████████| 420/420 [00:00<00:00, 2702.63it/s]"
     ]
    },
    {
     "name": "stdout",
     "output_type": "stream",
     "text": [
      "Train on 420 samples\n",
      "Epoch 1/32\n",
      " 64/420 [===>..........................] - ETA: 0s - loss: 8.1879"
     ]
    },
    {
     "name": "stderr",
     "output_type": "stream",
     "text": [
      "\n"
     ]
    },
    {
     "name": "stdout",
     "output_type": "stream",
     "text": [
      "420/420 [==============================] - 0s 162us/sample - loss: 5.9828\n",
      "Epoch 2/32\n",
      "420/420 [==============================] - 0s 170us/sample - loss: 8.8941\n",
      "Epoch 3/32\n",
      "420/420 [==============================] - 0s 169us/sample - loss: 5.1371\n",
      "Epoch 4/32\n",
      "420/420 [==============================] - 0s 161us/sample - loss: 6.0095\n",
      "Epoch 5/32\n",
      "420/420 [==============================] - 0s 157us/sample - loss: 4.8506\n",
      "Epoch 6/32\n",
      "420/420 [==============================] - 0s 153us/sample - loss: 4.7099\n",
      "Epoch 7/32\n",
      "420/420 [==============================] - 0s 173us/sample - loss: 4.2745\n",
      "Epoch 8/32\n",
      "420/420 [==============================] - 0s 164us/sample - loss: 5.2603\n",
      "Epoch 9/32\n",
      "420/420 [==============================] - 0s 158us/sample - loss: 3.5021\n",
      "Epoch 10/32\n",
      "420/420 [==============================] - 0s 162us/sample - loss: 5.0034\n",
      "Epoch 11/32\n",
      "420/420 [==============================] - 0s 159us/sample - loss: 3.3138\n",
      "Epoch 12/32\n",
      "420/420 [==============================] - 0s 158us/sample - loss: 4.6927\n",
      "Epoch 13/32\n",
      "420/420 [==============================] - 0s 166us/sample - loss: 3.1897\n",
      "Epoch 14/32\n",
      "420/420 [==============================] - 0s 165us/sample - loss: 4.3767\n",
      "Epoch 15/32\n",
      "420/420 [==============================] - 0s 160us/sample - loss: 3.1880\n",
      "Epoch 16/32\n",
      "420/420 [==============================] - 0s 169us/sample - loss: 4.0039\n",
      "Epoch 17/32\n",
      "420/420 [==============================] - 0s 165us/sample - loss: 3.1939\n",
      "Epoch 18/32\n",
      "420/420 [==============================] - 0s 165us/sample - loss: 3.7485\n",
      "Epoch 19/32\n",
      "420/420 [==============================] - 0s 183us/sample - loss: 3.1674\n",
      "Epoch 20/32\n",
      "420/420 [==============================] - 0s 185us/sample - loss: 3.5424\n",
      "Epoch 21/32\n",
      "420/420 [==============================] - 0s 192us/sample - loss: 3.1231\n",
      "Epoch 22/32\n",
      "420/420 [==============================] - 0s 198us/sample - loss: 3.3577\n",
      "Epoch 23/32\n",
      "420/420 [==============================] - 0s 192us/sample - loss: 3.0687\n",
      "Epoch 24/32\n",
      "420/420 [==============================] - 0s 200us/sample - loss: 3.1905\n",
      "Epoch 25/32\n",
      "420/420 [==============================] - 0s 186us/sample - loss: 3.0063\n",
      "Epoch 26/32\n",
      "420/420 [==============================] - 0s 224us/sample - loss: 3.0349\n",
      "Epoch 27/32\n",
      "420/420 [==============================] - 0s 209us/sample - loss: 2.9466\n",
      "Epoch 28/32\n",
      "420/420 [==============================] - 0s 216us/sample - loss: 2.8937\n",
      "Epoch 29/32\n",
      "420/420 [==============================] - 0s 217us/sample - loss: 2.8586\n",
      "Epoch 30/32\n",
      "420/420 [==============================] - 0s 211us/sample - loss: 2.7931\n",
      "Epoch 31/32\n",
      "420/420 [==============================] - 0s 213us/sample - loss: 2.7566\n",
      "Epoch 32/32\n",
      "420/420 [==============================] - 0s 224us/sample - loss: 2.7031\n"
     ]
    }
   ],
   "source": [
    "\"\"\"\n",
    "\n",
    "#9. 마지막 3일 데이터('Y18')를 사용하여 fine-tuning \n",
    "\n",
    "\"\"\"\n",
    "\n",
    "simple_lstm_model.layers[0].trainable = False\n",
    "finetune_X, finetune_y = convert_to_timeseries(pd.concat([train_df.tail(432), \n",
    "                                                          train['Y18'].tail(432)], axis = 1), \n",
    "                                               interval=12)\n",
    "\n",
    "\n",
    "finetune_history = simple_lstm_model.fit(\n",
    "            finetune_X, finetune_y,\n",
    "            epochs=32,\n",
    "            batch_size=64,\n",
    "            shuffle=False,\n",
    "            verbose = 1)"
   ]
  },
  {
   "cell_type": "code",
   "execution_count": 56,
   "metadata": {},
   "outputs": [],
   "source": [
    "#10. 결과 예측하기 \n",
    "finetune_pred = simple_lstm_model.predict(X_test)\n",
    "\n",
    "\n",
    "# 제출 파일 만들기\n",
    "submit = pd.DataFrame({'id':range(144*33, 144*113),\n",
    "              'Y18':finetune_pred.reshape(1,-1)[0]})\n",
    "\n",
    "submit.to_csv('/Users/keom/Desktop/submit3.csv', index = False)"
   ]
  }
 ],
 "metadata": {
  "kernelspec": {
   "display_name": "Python 3",
   "language": "python",
   "name": "python3"
  },
  "language_info": {
   "codemirror_mode": {
    "name": "ipython",
    "version": 3
   },
   "file_extension": ".py",
   "mimetype": "text/x-python",
   "name": "python",
   "nbconvert_exporter": "python",
   "pygments_lexer": "ipython3",
   "version": "3.8.2"
  }
 },
 "nbformat": 4,
 "nbformat_minor": 4
}
